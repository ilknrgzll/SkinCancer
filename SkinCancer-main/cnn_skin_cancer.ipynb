{
  "metadata": {
    "kernelspec": {
      "language": "python",
      "display_name": "Python 3",
      "name": "python3"
    },
    "language_info": {
      "name": "python",
      "version": "3.10.12",
      "mimetype": "text/x-python",
      "codemirror_mode": {
        "name": "ipython",
        "version": 3
      },
      "pygments_lexer": "ipython3",
      "nbconvert_exporter": "python",
      "file_extension": ".py"
    },
    "colab": {
      "provenance": []
    }
  },
  "nbformat_minor": 0,
  "nbformat": 4,
  "cells": [
    {
      "cell_type": "code",
      "source": [
        "import numpy as np # linear algebra\n",
        "import pandas as pd # data processing, CSV file I/O (e.g. pd.read_csv)\n",
        "import os\n",
        "import shutil\n",
        "from PIL import Image\n",
        "\n",
        "from sklearn.model_selection import train_test_split\n",
        "import matplotlib.pyplot as plt\n",
        "import tensorflow as tf\n",
        "from tensorflow.keras.preprocessing.image import ImageDataGenerator\n",
        "from tensorflow.keras.layers import Dense\n",
        "from tensorflow.keras.layers import BatchNormalization\n",
        "from tensorflow.keras.layers import MaxPooling2D\n",
        "from tensorflow.keras.layers import Conv2D\n",
        "from tensorflow.keras.layers import Flatten\n",
        "from imblearn.combine import SMOTEENN\n",
        "import time"
      ],
      "metadata": {
        "_uuid": "8f2839f25d086af736a60e9eeb907d3b93b6e0e5",
        "_cell_guid": "b1076dfc-b9ad-4769-8c92-a6c4dae69d19",
        "execution": {
          "iopub.status.busy": "2023-11-23T23:43:37.397864Z",
          "iopub.execute_input": "2023-11-23T23:43:37.398305Z",
          "iopub.status.idle": "2023-11-23T23:43:42.394496Z",
          "shell.execute_reply.started": "2023-11-23T23:43:37.398231Z",
          "shell.execute_reply": "2023-11-23T23:43:42.393315Z"
        },
        "trusted": true,
        "id": "sgywMAmfwrqa"
      },
      "execution_count": null,
      "outputs": []
    },
    {
      "cell_type": "code",
      "source": [
        "from google.colab import drive\n",
        "drive.mount('/content/drive')"
      ],
      "metadata": {
        "colab": {
          "base_uri": "https://localhost:8080/"
        },
        "id": "bPBNCjtFxDhU",
        "outputId": "dd1f2bad-0ef5-4875-c1e2-f20b8f2d569f"
      },
      "execution_count": null,
      "outputs": [
        {
          "output_type": "stream",
          "name": "stdout",
          "text": [
            "Mounted at /content/drive\n"
          ]
        }
      ]
    },
    {
      "cell_type": "code",
      "source": [
        "data_dir = '/content/drive/MyDrive/Colab Notebooks/skin cancer/hmnist_28_28_RGB.csv'\n",
        "data = pd.read_csv(data_dir)\n",
        "data.head()"
      ],
      "metadata": {
        "execution": {
          "iopub.status.busy": "2023-11-23T23:43:42.396911Z",
          "iopub.execute_input": "2023-11-23T23:43:42.397573Z",
          "iopub.status.idle": "2023-11-23T23:43:46.790802Z",
          "shell.execute_reply.started": "2023-11-23T23:43:42.397539Z",
          "shell.execute_reply": "2023-11-23T23:43:46.789169Z"
        },
        "trusted": true,
        "colab": {
          "base_uri": "https://localhost:8080/",
          "height": 236
        },
        "id": "JIXrTWO-wrqf",
        "outputId": "dda500b6-42c0-4675-cd63-802a85b75f15"
      },
      "execution_count": null,
      "outputs": [
        {
          "output_type": "execute_result",
          "data": {
            "text/plain": [
              "   pixel0000  pixel0001  pixel0002  pixel0003  pixel0004  pixel0005  \\\n",
              "0        192        153        193        195        155        192   \n",
              "1         25         14         30         68         48         75   \n",
              "2        192        138        153        200        145        163   \n",
              "3         38         19         30         95         59         72   \n",
              "4        158        113        139        194        144        174   \n",
              "\n",
              "   pixel0006  pixel0007  pixel0008  pixel0009  ...  pixel2343  pixel2344  \\\n",
              "0        197        154        185        202  ...        173        124   \n",
              "1        123         93        126        158  ...         60         39   \n",
              "2        201        142        160        206  ...        167        129   \n",
              "3        143        103        119        171  ...         44         26   \n",
              "4        215        162        191        225  ...        209        166   \n",
              "\n",
              "   pixel2345  pixel2346  pixel2347  pixel2348  pixel2349  pixel2350  \\\n",
              "0        138        183        147        166        185        154   \n",
              "1         55         25         14         28         25         14   \n",
              "2        143        159        124        142        136        104   \n",
              "3         36         25         12         17         25         12   \n",
              "4        185        172        135        149        109         78   \n",
              "\n",
              "   pixel2351  label  \n",
              "0        177      2  \n",
              "1         27      2  \n",
              "2        117      2  \n",
              "3         15      2  \n",
              "4         92      2  \n",
              "\n",
              "[5 rows x 2353 columns]"
            ],
            "text/html": [
              "\n",
              "  <div id=\"df-f46e9c07-f4b1-4ed9-9925-beca656af969\" class=\"colab-df-container\">\n",
              "    <div>\n",
              "<style scoped>\n",
              "    .dataframe tbody tr th:only-of-type {\n",
              "        vertical-align: middle;\n",
              "    }\n",
              "\n",
              "    .dataframe tbody tr th {\n",
              "        vertical-align: top;\n",
              "    }\n",
              "\n",
              "    .dataframe thead th {\n",
              "        text-align: right;\n",
              "    }\n",
              "</style>\n",
              "<table border=\"1\" class=\"dataframe\">\n",
              "  <thead>\n",
              "    <tr style=\"text-align: right;\">\n",
              "      <th></th>\n",
              "      <th>pixel0000</th>\n",
              "      <th>pixel0001</th>\n",
              "      <th>pixel0002</th>\n",
              "      <th>pixel0003</th>\n",
              "      <th>pixel0004</th>\n",
              "      <th>pixel0005</th>\n",
              "      <th>pixel0006</th>\n",
              "      <th>pixel0007</th>\n",
              "      <th>pixel0008</th>\n",
              "      <th>pixel0009</th>\n",
              "      <th>...</th>\n",
              "      <th>pixel2343</th>\n",
              "      <th>pixel2344</th>\n",
              "      <th>pixel2345</th>\n",
              "      <th>pixel2346</th>\n",
              "      <th>pixel2347</th>\n",
              "      <th>pixel2348</th>\n",
              "      <th>pixel2349</th>\n",
              "      <th>pixel2350</th>\n",
              "      <th>pixel2351</th>\n",
              "      <th>label</th>\n",
              "    </tr>\n",
              "  </thead>\n",
              "  <tbody>\n",
              "    <tr>\n",
              "      <th>0</th>\n",
              "      <td>192</td>\n",
              "      <td>153</td>\n",
              "      <td>193</td>\n",
              "      <td>195</td>\n",
              "      <td>155</td>\n",
              "      <td>192</td>\n",
              "      <td>197</td>\n",
              "      <td>154</td>\n",
              "      <td>185</td>\n",
              "      <td>202</td>\n",
              "      <td>...</td>\n",
              "      <td>173</td>\n",
              "      <td>124</td>\n",
              "      <td>138</td>\n",
              "      <td>183</td>\n",
              "      <td>147</td>\n",
              "      <td>166</td>\n",
              "      <td>185</td>\n",
              "      <td>154</td>\n",
              "      <td>177</td>\n",
              "      <td>2</td>\n",
              "    </tr>\n",
              "    <tr>\n",
              "      <th>1</th>\n",
              "      <td>25</td>\n",
              "      <td>14</td>\n",
              "      <td>30</td>\n",
              "      <td>68</td>\n",
              "      <td>48</td>\n",
              "      <td>75</td>\n",
              "      <td>123</td>\n",
              "      <td>93</td>\n",
              "      <td>126</td>\n",
              "      <td>158</td>\n",
              "      <td>...</td>\n",
              "      <td>60</td>\n",
              "      <td>39</td>\n",
              "      <td>55</td>\n",
              "      <td>25</td>\n",
              "      <td>14</td>\n",
              "      <td>28</td>\n",
              "      <td>25</td>\n",
              "      <td>14</td>\n",
              "      <td>27</td>\n",
              "      <td>2</td>\n",
              "    </tr>\n",
              "    <tr>\n",
              "      <th>2</th>\n",
              "      <td>192</td>\n",
              "      <td>138</td>\n",
              "      <td>153</td>\n",
              "      <td>200</td>\n",
              "      <td>145</td>\n",
              "      <td>163</td>\n",
              "      <td>201</td>\n",
              "      <td>142</td>\n",
              "      <td>160</td>\n",
              "      <td>206</td>\n",
              "      <td>...</td>\n",
              "      <td>167</td>\n",
              "      <td>129</td>\n",
              "      <td>143</td>\n",
              "      <td>159</td>\n",
              "      <td>124</td>\n",
              "      <td>142</td>\n",
              "      <td>136</td>\n",
              "      <td>104</td>\n",
              "      <td>117</td>\n",
              "      <td>2</td>\n",
              "    </tr>\n",
              "    <tr>\n",
              "      <th>3</th>\n",
              "      <td>38</td>\n",
              "      <td>19</td>\n",
              "      <td>30</td>\n",
              "      <td>95</td>\n",
              "      <td>59</td>\n",
              "      <td>72</td>\n",
              "      <td>143</td>\n",
              "      <td>103</td>\n",
              "      <td>119</td>\n",
              "      <td>171</td>\n",
              "      <td>...</td>\n",
              "      <td>44</td>\n",
              "      <td>26</td>\n",
              "      <td>36</td>\n",
              "      <td>25</td>\n",
              "      <td>12</td>\n",
              "      <td>17</td>\n",
              "      <td>25</td>\n",
              "      <td>12</td>\n",
              "      <td>15</td>\n",
              "      <td>2</td>\n",
              "    </tr>\n",
              "    <tr>\n",
              "      <th>4</th>\n",
              "      <td>158</td>\n",
              "      <td>113</td>\n",
              "      <td>139</td>\n",
              "      <td>194</td>\n",
              "      <td>144</td>\n",
              "      <td>174</td>\n",
              "      <td>215</td>\n",
              "      <td>162</td>\n",
              "      <td>191</td>\n",
              "      <td>225</td>\n",
              "      <td>...</td>\n",
              "      <td>209</td>\n",
              "      <td>166</td>\n",
              "      <td>185</td>\n",
              "      <td>172</td>\n",
              "      <td>135</td>\n",
              "      <td>149</td>\n",
              "      <td>109</td>\n",
              "      <td>78</td>\n",
              "      <td>92</td>\n",
              "      <td>2</td>\n",
              "    </tr>\n",
              "  </tbody>\n",
              "</table>\n",
              "<p>5 rows × 2353 columns</p>\n",
              "</div>\n",
              "    <div class=\"colab-df-buttons\">\n",
              "\n",
              "  <div class=\"colab-df-container\">\n",
              "    <button class=\"colab-df-convert\" onclick=\"convertToInteractive('df-f46e9c07-f4b1-4ed9-9925-beca656af969')\"\n",
              "            title=\"Convert this dataframe to an interactive table.\"\n",
              "            style=\"display:none;\">\n",
              "\n",
              "  <svg xmlns=\"http://www.w3.org/2000/svg\" height=\"24px\" viewBox=\"0 -960 960 960\">\n",
              "    <path d=\"M120-120v-720h720v720H120Zm60-500h600v-160H180v160Zm220 220h160v-160H400v160Zm0 220h160v-160H400v160ZM180-400h160v-160H180v160Zm440 0h160v-160H620v160ZM180-180h160v-160H180v160Zm440 0h160v-160H620v160Z\"/>\n",
              "  </svg>\n",
              "    </button>\n",
              "\n",
              "  <style>\n",
              "    .colab-df-container {\n",
              "      display:flex;\n",
              "      gap: 12px;\n",
              "    }\n",
              "\n",
              "    .colab-df-convert {\n",
              "      background-color: #E8F0FE;\n",
              "      border: none;\n",
              "      border-radius: 50%;\n",
              "      cursor: pointer;\n",
              "      display: none;\n",
              "      fill: #1967D2;\n",
              "      height: 32px;\n",
              "      padding: 0 0 0 0;\n",
              "      width: 32px;\n",
              "    }\n",
              "\n",
              "    .colab-df-convert:hover {\n",
              "      background-color: #E2EBFA;\n",
              "      box-shadow: 0px 1px 2px rgba(60, 64, 67, 0.3), 0px 1px 3px 1px rgba(60, 64, 67, 0.15);\n",
              "      fill: #174EA6;\n",
              "    }\n",
              "\n",
              "    .colab-df-buttons div {\n",
              "      margin-bottom: 4px;\n",
              "    }\n",
              "\n",
              "    [theme=dark] .colab-df-convert {\n",
              "      background-color: #3B4455;\n",
              "      fill: #D2E3FC;\n",
              "    }\n",
              "\n",
              "    [theme=dark] .colab-df-convert:hover {\n",
              "      background-color: #434B5C;\n",
              "      box-shadow: 0px 1px 3px 1px rgba(0, 0, 0, 0.15);\n",
              "      filter: drop-shadow(0px 1px 2px rgba(0, 0, 0, 0.3));\n",
              "      fill: #FFFFFF;\n",
              "    }\n",
              "  </style>\n",
              "\n",
              "    <script>\n",
              "      const buttonEl =\n",
              "        document.querySelector('#df-f46e9c07-f4b1-4ed9-9925-beca656af969 button.colab-df-convert');\n",
              "      buttonEl.style.display =\n",
              "        google.colab.kernel.accessAllowed ? 'block' : 'none';\n",
              "\n",
              "      async function convertToInteractive(key) {\n",
              "        const element = document.querySelector('#df-f46e9c07-f4b1-4ed9-9925-beca656af969');\n",
              "        const dataTable =\n",
              "          await google.colab.kernel.invokeFunction('convertToInteractive',\n",
              "                                                    [key], {});\n",
              "        if (!dataTable) return;\n",
              "\n",
              "        const docLinkHtml = 'Like what you see? Visit the ' +\n",
              "          '<a target=\"_blank\" href=https://colab.research.google.com/notebooks/data_table.ipynb>data table notebook</a>'\n",
              "          + ' to learn more about interactive tables.';\n",
              "        element.innerHTML = '';\n",
              "        dataTable['output_type'] = 'display_data';\n",
              "        await google.colab.output.renderOutput(dataTable, element);\n",
              "        const docLink = document.createElement('div');\n",
              "        docLink.innerHTML = docLinkHtml;\n",
              "        element.appendChild(docLink);\n",
              "      }\n",
              "    </script>\n",
              "  </div>\n",
              "\n",
              "\n",
              "<div id=\"df-f7723f13-0a85-4361-8842-b2942f8cec5b\">\n",
              "  <button class=\"colab-df-quickchart\" onclick=\"quickchart('df-f7723f13-0a85-4361-8842-b2942f8cec5b')\"\n",
              "            title=\"Suggest charts\"\n",
              "            style=\"display:none;\">\n",
              "\n",
              "<svg xmlns=\"http://www.w3.org/2000/svg\" height=\"24px\"viewBox=\"0 0 24 24\"\n",
              "     width=\"24px\">\n",
              "    <g>\n",
              "        <path d=\"M19 3H5c-1.1 0-2 .9-2 2v14c0 1.1.9 2 2 2h14c1.1 0 2-.9 2-2V5c0-1.1-.9-2-2-2zM9 17H7v-7h2v7zm4 0h-2V7h2v10zm4 0h-2v-4h2v4z\"/>\n",
              "    </g>\n",
              "</svg>\n",
              "  </button>\n",
              "\n",
              "<style>\n",
              "  .colab-df-quickchart {\n",
              "      --bg-color: #E8F0FE;\n",
              "      --fill-color: #1967D2;\n",
              "      --hover-bg-color: #E2EBFA;\n",
              "      --hover-fill-color: #174EA6;\n",
              "      --disabled-fill-color: #AAA;\n",
              "      --disabled-bg-color: #DDD;\n",
              "  }\n",
              "\n",
              "  [theme=dark] .colab-df-quickchart {\n",
              "      --bg-color: #3B4455;\n",
              "      --fill-color: #D2E3FC;\n",
              "      --hover-bg-color: #434B5C;\n",
              "      --hover-fill-color: #FFFFFF;\n",
              "      --disabled-bg-color: #3B4455;\n",
              "      --disabled-fill-color: #666;\n",
              "  }\n",
              "\n",
              "  .colab-df-quickchart {\n",
              "    background-color: var(--bg-color);\n",
              "    border: none;\n",
              "    border-radius: 50%;\n",
              "    cursor: pointer;\n",
              "    display: none;\n",
              "    fill: var(--fill-color);\n",
              "    height: 32px;\n",
              "    padding: 0;\n",
              "    width: 32px;\n",
              "  }\n",
              "\n",
              "  .colab-df-quickchart:hover {\n",
              "    background-color: var(--hover-bg-color);\n",
              "    box-shadow: 0 1px 2px rgba(60, 64, 67, 0.3), 0 1px 3px 1px rgba(60, 64, 67, 0.15);\n",
              "    fill: var(--button-hover-fill-color);\n",
              "  }\n",
              "\n",
              "  .colab-df-quickchart-complete:disabled,\n",
              "  .colab-df-quickchart-complete:disabled:hover {\n",
              "    background-color: var(--disabled-bg-color);\n",
              "    fill: var(--disabled-fill-color);\n",
              "    box-shadow: none;\n",
              "  }\n",
              "\n",
              "  .colab-df-spinner {\n",
              "    border: 2px solid var(--fill-color);\n",
              "    border-color: transparent;\n",
              "    border-bottom-color: var(--fill-color);\n",
              "    animation:\n",
              "      spin 1s steps(1) infinite;\n",
              "  }\n",
              "\n",
              "  @keyframes spin {\n",
              "    0% {\n",
              "      border-color: transparent;\n",
              "      border-bottom-color: var(--fill-color);\n",
              "      border-left-color: var(--fill-color);\n",
              "    }\n",
              "    20% {\n",
              "      border-color: transparent;\n",
              "      border-left-color: var(--fill-color);\n",
              "      border-top-color: var(--fill-color);\n",
              "    }\n",
              "    30% {\n",
              "      border-color: transparent;\n",
              "      border-left-color: var(--fill-color);\n",
              "      border-top-color: var(--fill-color);\n",
              "      border-right-color: var(--fill-color);\n",
              "    }\n",
              "    40% {\n",
              "      border-color: transparent;\n",
              "      border-right-color: var(--fill-color);\n",
              "      border-top-color: var(--fill-color);\n",
              "    }\n",
              "    60% {\n",
              "      border-color: transparent;\n",
              "      border-right-color: var(--fill-color);\n",
              "    }\n",
              "    80% {\n",
              "      border-color: transparent;\n",
              "      border-right-color: var(--fill-color);\n",
              "      border-bottom-color: var(--fill-color);\n",
              "    }\n",
              "    90% {\n",
              "      border-color: transparent;\n",
              "      border-bottom-color: var(--fill-color);\n",
              "    }\n",
              "  }\n",
              "</style>\n",
              "\n",
              "  <script>\n",
              "    async function quickchart(key) {\n",
              "      const quickchartButtonEl =\n",
              "        document.querySelector('#' + key + ' button');\n",
              "      quickchartButtonEl.disabled = true;  // To prevent multiple clicks.\n",
              "      quickchartButtonEl.classList.add('colab-df-spinner');\n",
              "      try {\n",
              "        const charts = await google.colab.kernel.invokeFunction(\n",
              "            'suggestCharts', [key], {});\n",
              "      } catch (error) {\n",
              "        console.error('Error during call to suggestCharts:', error);\n",
              "      }\n",
              "      quickchartButtonEl.classList.remove('colab-df-spinner');\n",
              "      quickchartButtonEl.classList.add('colab-df-quickchart-complete');\n",
              "    }\n",
              "    (() => {\n",
              "      let quickchartButtonEl =\n",
              "        document.querySelector('#df-f7723f13-0a85-4361-8842-b2942f8cec5b button');\n",
              "      quickchartButtonEl.style.display =\n",
              "        google.colab.kernel.accessAllowed ? 'block' : 'none';\n",
              "    })();\n",
              "  </script>\n",
              "</div>\n",
              "\n",
              "    </div>\n",
              "  </div>\n"
            ],
            "application/vnd.google.colaboratory.intrinsic+json": {
              "type": "dataframe",
              "variable_name": "data"
            }
          },
          "metadata": {},
          "execution_count": 3
        }
      ]
    },
    {
      "cell_type": "code",
      "source": [
        "X = data.iloc[:,:2352]\n",
        "y = data.iloc[:,-1]"
      ],
      "metadata": {
        "execution": {
          "iopub.status.busy": "2023-11-23T23:43:46.792402Z",
          "iopub.execute_input": "2023-11-23T23:43:46.793217Z",
          "iopub.status.idle": "2023-11-23T23:43:46.800495Z",
          "shell.execute_reply.started": "2023-11-23T23:43:46.793169Z",
          "shell.execute_reply": "2023-11-23T23:43:46.799352Z"
        },
        "trusted": true,
        "id": "t5okbcLmwrqi"
      },
      "execution_count": null,
      "outputs": []
    },
    {
      "cell_type": "code",
      "source": [
        "y.value_counts()"
      ],
      "metadata": {
        "execution": {
          "iopub.status.busy": "2023-11-23T23:43:46.801976Z",
          "iopub.execute_input": "2023-11-23T23:43:46.803484Z",
          "iopub.status.idle": "2023-11-23T23:43:46.820419Z",
          "shell.execute_reply.started": "2023-11-23T23:43:46.803432Z",
          "shell.execute_reply": "2023-11-23T23:43:46.819138Z"
        },
        "trusted": true,
        "colab": {
          "base_uri": "https://localhost:8080/"
        },
        "id": "7KU3rnn-wrqi",
        "outputId": "70d777ac-6338-4eec-ff63-56341c745671"
      },
      "execution_count": null,
      "outputs": [
        {
          "output_type": "execute_result",
          "data": {
            "text/plain": [
              "label\n",
              "4    6705\n",
              "6    1113\n",
              "2    1099\n",
              "1     514\n",
              "0     327\n",
              "5     142\n",
              "3     115\n",
              "Name: count, dtype: int64"
            ]
          },
          "metadata": {},
          "execution_count": 5
        }
      ]
    },
    {
      "cell_type": "code",
      "source": [
        "unique_classes, class_counts = np.unique(y, return_counts=True)\n",
        "for cls, count in zip(unique_classes, class_counts):\n",
        "    print(f\"Kelas {cls}: {count} sampel\")"
      ],
      "metadata": {
        "execution": {
          "iopub.status.busy": "2023-11-23T23:43:46.824629Z",
          "iopub.execute_input": "2023-11-23T23:43:46.825445Z",
          "iopub.status.idle": "2023-11-23T23:43:46.835709Z",
          "shell.execute_reply.started": "2023-11-23T23:43:46.825394Z",
          "shell.execute_reply": "2023-11-23T23:43:46.833347Z"
        },
        "trusted": true,
        "colab": {
          "base_uri": "https://localhost:8080/"
        },
        "id": "aAjxLZYEwrqj",
        "outputId": "97062198-12c1-4937-c36b-dc430f4b631c"
      },
      "execution_count": null,
      "outputs": [
        {
          "output_type": "stream",
          "name": "stdout",
          "text": [
            "Kelas 0: 327 sampel\n",
            "Kelas 1: 514 sampel\n",
            "Kelas 2: 1099 sampel\n",
            "Kelas 3: 115 sampel\n",
            "Kelas 4: 6705 sampel\n",
            "Kelas 5: 142 sampel\n",
            "Kelas 6: 1113 sampel\n"
          ]
        }
      ]
    },
    {
      "cell_type": "code",
      "source": [
        "smote_enn = SMOTEENN(random_state=42)\n",
        "X_resampled, y_resampled_df = smote_enn.fit_resample(X, y)\n",
        "\n",
        "# Jumlah kelas setelah resampling\n",
        "unique_classes, class_counts = np.unique(y_resampled_df, return_counts=True)\n",
        "for cls, count in zip(unique_classes, class_counts):\n",
        "    print(f\"Kelas {cls}: {count} sampel\")"
      ],
      "metadata": {
        "execution": {
          "iopub.status.busy": "2023-11-23T23:43:46.837309Z",
          "iopub.execute_input": "2023-11-23T23:43:46.838288Z",
          "iopub.status.idle": "2023-11-23T23:47:20.012346Z",
          "shell.execute_reply.started": "2023-11-23T23:43:46.838223Z",
          "shell.execute_reply": "2023-11-23T23:47:20.011166Z"
        },
        "trusted": true,
        "id": "i3WaNDCSwrqk",
        "colab": {
          "base_uri": "https://localhost:8080/"
        },
        "outputId": "c09904cc-fd34-4ef9-bc76-58492c5a1faa"
      },
      "execution_count": null,
      "outputs": [
        {
          "output_type": "stream",
          "name": "stdout",
          "text": [
            "Kelas 0: 6705 sampel\n",
            "Kelas 1: 6702 sampel\n",
            "Kelas 2: 6597 sampel\n",
            "Kelas 3: 6705 sampel\n",
            "Kelas 4: 3464 sampel\n",
            "Kelas 5: 6705 sampel\n",
            "Kelas 6: 6595 sampel\n"
          ]
        }
      ]
    },
    {
      "cell_type": "code",
      "source": [
        "X_resampled = np.array(X_resampled).reshape(-1, 28, 28, 3)\n",
        "print('Shape of Data :', X_resampled.shape)"
      ],
      "metadata": {
        "execution": {
          "iopub.status.busy": "2023-11-23T23:47:20.014076Z",
          "iopub.execute_input": "2023-11-23T23:47:20.014768Z",
          "iopub.status.idle": "2023-11-23T23:47:20.630724Z",
          "shell.execute_reply.started": "2023-11-23T23:47:20.014724Z",
          "shell.execute_reply": "2023-11-23T23:47:20.629581Z"
        },
        "trusted": true,
        "id": "60iG7nk2wrqk",
        "colab": {
          "base_uri": "https://localhost:8080/"
        },
        "outputId": "6a62ac2f-5e3a-4337-bcda-302a9869de63"
      },
      "execution_count": null,
      "outputs": [
        {
          "output_type": "stream",
          "name": "stdout",
          "text": [
            "Shape of Data : (43473, 28, 28, 3)\n"
          ]
        }
      ]
    },
    {
      "cell_type": "code",
      "source": [
        "from tensorflow.keras.utils import to_categorical\n",
        "\n",
        "y_resampled = np.array(y_resampled_df)\n",
        "y_resampled = to_categorical(y_resampled)\n",
        "print('Shape of Data :', y_resampled.shape)"
      ],
      "metadata": {
        "execution": {
          "iopub.status.busy": "2023-11-23T23:47:20.633001Z",
          "iopub.execute_input": "2023-11-23T23:47:20.633455Z",
          "iopub.status.idle": "2023-11-23T23:47:20.641654Z",
          "shell.execute_reply.started": "2023-11-23T23:47:20.633414Z",
          "shell.execute_reply": "2023-11-23T23:47:20.640327Z"
        },
        "trusted": true,
        "id": "vC9YETm1wrql",
        "colab": {
          "base_uri": "https://localhost:8080/"
        },
        "outputId": "2c827155-cc7a-498e-94f6-d10f54e92d7c"
      },
      "execution_count": null,
      "outputs": [
        {
          "output_type": "stream",
          "name": "stdout",
          "text": [
            "Shape of Data : (43473, 7)\n"
          ]
        }
      ]
    },
    {
      "cell_type": "code",
      "source": [
        "X_train , X_test , y_train , y_test = train_test_split(X_resampled , y_resampled , test_size = 0.25 , random_state = 42)"
      ],
      "metadata": {
        "execution": {
          "iopub.status.busy": "2023-11-23T23:47:20.642911Z",
          "iopub.execute_input": "2023-11-23T23:47:20.643207Z",
          "iopub.status.idle": "2023-11-23T23:47:21.850993Z",
          "shell.execute_reply.started": "2023-11-23T23:47:20.643183Z",
          "shell.execute_reply": "2023-11-23T23:47:21.850108Z"
        },
        "trusted": true,
        "id": "1D8qfuunwrql"
      },
      "execution_count": null,
      "outputs": []
    },
    {
      "cell_type": "code",
      "source": [
        "fig, (ax1, ax2) = plt.subplots(1, 2, figsize=(12, 4))\n",
        "\n",
        "class_counts = y.value_counts().sort_index()\n",
        "ax1.bar(class_counts.index, class_counts.values, color='skyblue')\n",
        "ax1.set_xlabel('Kelas')\n",
        "ax1.set_ylabel('Jumlah')\n",
        "ax1.set_title('Data Train')\n",
        "\n",
        "class_counts_SMOTEENN = y_resampled_df.value_counts().sort_index()\n",
        "ax2.bar(class_counts_SMOTEENN.index, class_counts_SMOTEENN.values, color='skyblue')\n",
        "ax2.set_xlabel('Kelas')\n",
        "ax2.set_ylabel('Jumlah')\n",
        "ax2.set_title('Data Test')\n",
        "\n",
        "plt.tight_layout()\n",
        "plt.show()\n"
      ],
      "metadata": {
        "execution": {
          "iopub.status.busy": "2023-11-23T23:47:21.852099Z",
          "iopub.execute_input": "2023-11-23T23:47:21.852416Z",
          "iopub.status.idle": "2023-11-23T23:47:22.515816Z",
          "shell.execute_reply.started": "2023-11-23T23:47:21.852388Z",
          "shell.execute_reply": "2023-11-23T23:47:22.514678Z"
        },
        "trusted": true,
        "id": "9_A3yVzRwrqm",
        "colab": {
          "base_uri": "https://localhost:8080/",
          "height": 407
        },
        "outputId": "efbd090a-050f-4d1a-bf06-3370dd64997a"
      },
      "execution_count": null,
      "outputs": [
        {
          "output_type": "display_data",
          "data": {
            "text/plain": [
              "<Figure size 1200x400 with 2 Axes>"
            ],
            "image/png": "[encoded data removed]"
          },
          "metadata": {}
        }
      ]
    },
    {
      "cell_type": "code",
      "source": [
        "model = tf.keras.Sequential([\n",
        "    Conv2D(64, (3, 3), activation='relu', padding='same', input_shape=(28, 28, 3)),\n",
        "    BatchNormalization(),\n",
        "    MaxPooling2D((2, 2)),\n",
        "\n",
        "    Conv2D(128, (3, 3), padding='same', activation='relu'),\n",
        "    BatchNormalization(),\n",
        "    MaxPooling2D((2, 2)),\n",
        "\n",
        "    Conv2D(128, (3, 3), padding='same', activation='relu'),\n",
        "    BatchNormalization(),\n",
        "    MaxPooling2D((2, 2)),\n",
        "\n",
        "    Conv2D(256, (3, 3), padding='same', activation='relu'),\n",
        "    BatchNormalization(),\n",
        "    MaxPooling2D((2, 2)),\n",
        "\n",
        "    Flatten(),\n",
        "    Dense(256, activation='relu'),\n",
        "    BatchNormalization(),\n",
        "\n",
        "    Dense(128, activation='relu'),\n",
        "    BatchNormalization(),\n",
        "\n",
        "    Dense(64, activation='relu'),\n",
        "    BatchNormalization(),\n",
        "\n",
        "    Dense(64, activation='relu'),\n",
        "    BatchNormalization(),\n",
        "\n",
        "    Dense(7, activation='softmax')\n",
        "])\n",
        "\n",
        "\n",
        "model.compile(optimizer='adam', loss='categorical_crossentropy', metrics=['accuracy'])\n",
        "\n",
        "model.summary()\n"
      ],
      "metadata": {
        "execution": {
          "iopub.status.busy": "2023-11-24T00:52:51.922685Z",
          "iopub.execute_input": "2023-11-24T00:52:51.923635Z",
          "iopub.status.idle": "2023-11-24T00:52:52.267857Z",
          "shell.execute_reply.started": "2023-11-24T00:52:51.923595Z",
          "shell.execute_reply": "2023-11-24T00:52:52.266991Z"
        },
        "trusted": true,
        "id": "E94-UxKHwrqn",
        "colab": {
          "base_uri": "https://localhost:8080/"
        },
        "outputId": "0e85552e-18a0-4f40-de63-c85a7afc5418"
      },
      "execution_count": null,
      "outputs": [
        {
          "output_type": "stream",
          "name": "stdout",
          "text": [
            "Model: \"sequential\"\n",
            "_________________________________________________________________\n",
            " Layer (type)                Output Shape              Param #   \n",
            "=================================================================\n",
            " conv2d (Conv2D)             (None, 28, 28, 64)        1792      \n",
            "                                                                 \n",
            " batch_normalization (Batch  (None, 28, 28, 64)        256       \n",
            " Normalization)                                                  \n",
            "                                                                 \n",
            " max_pooling2d (MaxPooling2  (None, 14, 14, 64)        0         \n",
            " D)                                                              \n",
            "                                                                 \n",
            " conv2d_1 (Conv2D)           (None, 14, 14, 128)       73856     \n",
            "                                                                 \n",
            " batch_normalization_1 (Bat  (None, 14, 14, 128)       512       \n",
            " chNormalization)                                                \n",
            "                                                                 \n",
            " max_pooling2d_1 (MaxPoolin  (None, 7, 7, 128)         0         \n",
            " g2D)                                                            \n",
            "                                                                 \n",
            " conv2d_2 (Conv2D)           (None, 7, 7, 128)         147584    \n",
            "                                                                 \n",
            " batch_normalization_2 (Bat  (None, 7, 7, 128)         512       \n",
            " chNormalization)                                                \n",
            "                                                                 \n",
            " max_pooling2d_2 (MaxPoolin  (None, 3, 3, 128)         0         \n",
            " g2D)                                                            \n",
            "                                                                 \n",
            " conv2d_3 (Conv2D)           (None, 3, 3, 256)         295168    \n",
            "                                                                 \n",
            " batch_normalization_3 (Bat  (None, 3, 3, 256)         1024      \n",
            " chNormalization)                                                \n",
            "                                                                 \n",
            " max_pooling2d_3 (MaxPoolin  (None, 1, 1, 256)         0         \n",
            " g2D)                                                            \n",
            "                                                                 \n",
            " flatten (Flatten)           (None, 256)               0         \n",
            "                                                                 \n",
            " dense (Dense)               (None, 256)               65792     \n",
            "                                                                 \n",
            " batch_normalization_4 (Bat  (None, 256)               1024      \n",
            " chNormalization)                                                \n",
            "                                                                 \n",
            " dense_1 (Dense)             (None, 128)               32896     \n",
            "                                                                 \n",
            " batch_normalization_5 (Bat  (None, 128)               512       \n",
            " chNormalization)                                                \n",
            "                                                                 \n",
            " dense_2 (Dense)             (None, 64)                8256      \n",
            "                                                                 \n",
            " batch_normalization_6 (Bat  (None, 64)                256       \n",
            " chNormalization)                                                \n",
            "                                                                 \n",
            " dense_3 (Dense)             (None, 64)                4160      \n",
            "                                                                 \n",
            " batch_normalization_7 (Bat  (None, 64)                256       \n",
            " chNormalization)                                                \n",
            "                                                                 \n",
            " dense_4 (Dense)             (None, 7)                 455       \n",
            "                                                                 \n",
            "=================================================================\n",
            "Total params: 634311 (2.42 MB)\n",
            "Trainable params: 632135 (2.41 MB)\n",
            "Non-trainable params: 2176 (8.50 KB)\n",
            "_________________________________________________________________\n"
          ]
        }
      ]
    },
    {
      "cell_type": "code",
      "source": [
        "# Callback untuk menyimpan model terbaik\n",
        "checkpoint_filepath = 'best_model.h5'\n",
        "model_checkpoint_callback = tf.keras.callbacks.ModelCheckpoint(\n",
        "    filepath=checkpoint_filepath,\n",
        "    save_best_only=True,  # Hanya menyimpan model terbaik\n",
        "    monitor='val_loss',  # Monitor validasi loss\n",
        "    mode='min',  # Mode minimisasi untuk validasi loss\n",
        "    verbose=1  # Menampilkan pesan ketika menyimpan model\n",
        ")\n",
        "\n",
        "# Callback untuk mengurangi learning rate saat validasi loss stagnan\n",
        "reduce_lr_callback = tf.keras.callbacks.ReduceLROnPlateau(\n",
        "    monitor='val_loss',  # Monitor validasi loss\n",
        "    factor=0.2,  # Faktor pengurangan learning rate (0.2 = 20%)\n",
        "    patience=3,  # Jumlah epoch tanpa perubahan sebelum mengurangi learning rate\n",
        "    min_lr=0.0001,  # Batas bawah learning rate\n",
        "    verbose=1  # Menampilkan pesan ketika mengurangi learning rate\n",
        ")\n",
        "\n",
        "# Callback untuk menghentikan pelatihan jika validasi loss tidak berubah dalam beberapa epoch\n",
        "early_stopping_callback = tf.keras.callbacks.EarlyStopping(\n",
        "    monitor='val_loss',  # Monitor validasi loss\n",
        "    patience=5,  # Jumlah epoch tanpa perubahan sebelum menghentikan pelatihan\n",
        "    verbose=1,  # Menampilkan pesan ketika menghentikan pelatihan\n",
        "    restore_best_weights=True  # Mengembalikan bobot terbaik saat menghentikan pelatihan\n",
        ")"
      ],
      "metadata": {
        "execution": {
          "iopub.status.busy": "2023-11-24T00:52:59.084551Z",
          "iopub.execute_input": "2023-11-24T00:52:59.085287Z",
          "iopub.status.idle": "2023-11-24T00:52:59.092365Z",
          "shell.execute_reply.started": "2023-11-24T00:52:59.085231Z",
          "shell.execute_reply": "2023-11-24T00:52:59.091419Z"
        },
        "trusted": true,
        "id": "2v4CMwWOwrqn"
      },
      "execution_count": null,
      "outputs": []
    },
    {
      "cell_type": "markdown",
      "source": [
        "# **Egitim** **Kısmı**"
      ],
      "metadata": {
        "id": "YNvbQ-ovErh_"
      }
    },
    {
      "cell_type": "code",
      "source": [
        "start_time = time.time()\n",
        "\n",
        "history = model.fit(\n",
        "    X_train, y_train,\n",
        "    epochs=70,\n",
        "    validation_data=(X_test, y_test),\n",
        "    callbacks=[model_checkpoint_callback, reduce_lr_callback, early_stopping_callback]\n",
        ")\n",
        "\n",
        "end_time = time.time()\n",
        "training_time = (end_time - start_time)/60\n",
        "print(f\"Total waktu pelatihan: {training_time} menit\")"
      ],
      "metadata": {
        "execution": {
          "iopub.status.busy": "2023-11-24T00:53:05.126100Z",
          "iopub.execute_input": "2023-11-24T00:53:05.127035Z",
          "iopub.status.idle": "2023-11-24T01:27:18.182193Z",
          "shell.execute_reply.started": "2023-11-24T00:53:05.126994Z",
          "shell.execute_reply": "2023-11-24T01:27:18.181324Z"
        },
        "trusted": true,
        "id": "9sugBScHwrqo",
        "colab": {
          "base_uri": "https://localhost:8080/"
        },
        "outputId": "82034c32-58fe-4728-d8d0-0b71f191b6d9"
      },
      "execution_count": null,
      "outputs": [
        {
          "output_type": "stream",
          "name": "stdout",
          "text": [
            "Epoch 1/70\n",
            "1019/1019 [==============================] - ETA: 0s - loss: 0.8474 - accuracy: 0.6923\n",
            "Epoch 1: val_loss improved from inf to 2.18523, saving model to best_model.h5\n",
            "1019/1019 [==============================] - 238s 229ms/step - loss: 0.8474 - accuracy: 0.6923 - val_loss: 2.1852 - val_accuracy: 0.4784 - lr: 0.0010\n",
            "Epoch 2/70\n"
          ]
        },
        {
          "output_type": "stream",
          "name": "stderr",
          "text": [
            "/usr/local/lib/python3.10/dist-packages/keras/src/engine/training.py:3079: UserWarning: You are saving your model as an HDF5 file via `model.save()`. This file format is considered legacy. We recommend using instead the native Keras format, e.g. `model.save('my_model.keras')`.\n",
            "  saving_api.save_model(\n"
          ]
        },
        {
          "output_type": "stream",
          "name": "stdout",
          "text": [
            "1019/1019 [==============================] - ETA: 0s - loss: 0.4627 - accuracy: 0.8349\n",
            "Epoch 2: val_loss improved from 2.18523 to 0.57511, saving model to best_model.h5\n",
            "1019/1019 [==============================] - 245s 241ms/step - loss: 0.4627 - accuracy: 0.8349 - val_loss: 0.5751 - val_accuracy: 0.7919 - lr: 0.0010\n",
            "Epoch 3/70\n",
            "1019/1019 [==============================] - ETA: 0s - loss: 0.3118 - accuracy: 0.8911\n",
            "Epoch 3: val_loss did not improve from 0.57511\n",
            "1019/1019 [==============================] - 229s 225ms/step - loss: 0.3118 - accuracy: 0.8911 - val_loss: 0.9746 - val_accuracy: 0.6848 - lr: 0.0010\n",
            "Epoch 4/70\n",
            "1019/1019 [==============================] - ETA: 0s - loss: 0.2237 - accuracy: 0.9228\n",
            "Epoch 4: val_loss did not improve from 0.57511\n",
            "1019/1019 [==============================] - 227s 223ms/step - loss: 0.2237 - accuracy: 0.9228 - val_loss: 0.7041 - val_accuracy: 0.7823 - lr: 0.0010\n",
            "Epoch 5/70\n",
            "1019/1019 [==============================] - ETA: 0s - loss: 0.1823 - accuracy: 0.9380\n",
            "Epoch 5: val_loss improved from 0.57511 to 0.39010, saving model to best_model.h5\n",
            "1019/1019 [==============================] - 235s 231ms/step - loss: 0.1823 - accuracy: 0.9380 - val_loss: 0.3901 - val_accuracy: 0.8638 - lr: 0.0010\n",
            "Epoch 6/70\n",
            "1019/1019 [==============================] - ETA: 0s - loss: 0.1339 - accuracy: 0.9536\n",
            "Epoch 6: val_loss did not improve from 0.39010\n",
            "1019/1019 [==============================] - 232s 228ms/step - loss: 0.1339 - accuracy: 0.9536 - val_loss: 0.5030 - val_accuracy: 0.8538 - lr: 0.0010\n",
            "Epoch 7/70\n",
            "1019/1019 [==============================] - ETA: 0s - loss: 0.1148 - accuracy: 0.9610\n",
            "Epoch 7: val_loss improved from 0.39010 to 0.23006, saving model to best_model.h5\n",
            "1019/1019 [==============================] - 221s 217ms/step - loss: 0.1148 - accuracy: 0.9610 - val_loss: 0.2301 - val_accuracy: 0.9215 - lr: 0.0010\n",
            "Epoch 8/70\n",
            "1019/1019 [==============================] - ETA: 0s - loss: 0.0986 - accuracy: 0.9672\n",
            "Epoch 8: val_loss did not improve from 0.23006\n",
            "1019/1019 [==============================] - 235s 231ms/step - loss: 0.0986 - accuracy: 0.9672 - val_loss: 0.4524 - val_accuracy: 0.8486 - lr: 0.0010\n",
            "Epoch 9/70\n",
            "1019/1019 [==============================] - ETA: 0s - loss: 0.0773 - accuracy: 0.9739\n",
            "Epoch 9: val_loss improved from 0.23006 to 0.17454, saving model to best_model.h5\n",
            "1019/1019 [==============================] - 234s 230ms/step - loss: 0.0773 - accuracy: 0.9739 - val_loss: 0.1745 - val_accuracy: 0.9437 - lr: 0.0010\n",
            "Epoch 10/70\n",
            "1019/1019 [==============================] - ETA: 0s - loss: 0.0689 - accuracy: 0.9771\n",
            "Epoch 10: val_loss did not improve from 0.17454\n",
            "1019/1019 [==============================] - 233s 228ms/step - loss: 0.0689 - accuracy: 0.9771 - val_loss: 0.4466 - val_accuracy: 0.8675 - lr: 0.0010\n",
            "Epoch 11/70\n",
            "1019/1019 [==============================] - ETA: 0s - loss: 0.0593 - accuracy: 0.9803\n",
            "Epoch 11: val_loss did not improve from 0.17454\n",
            "1019/1019 [==============================] - 225s 221ms/step - loss: 0.0593 - accuracy: 0.9803 - val_loss: 0.2688 - val_accuracy: 0.9224 - lr: 0.0010\n",
            "Epoch 12/70\n",
            "1019/1019 [==============================] - ETA: 0s - loss: 0.0541 - accuracy: 0.9819\n",
            "Epoch 12: val_loss did not improve from 0.17454\n",
            "\n",
            "Epoch 12: ReduceLROnPlateau reducing learning rate to 0.00020000000949949026.\n",
            "1019/1019 [==============================] - 238s 234ms/step - loss: 0.0541 - accuracy: 0.9819 - val_loss: 0.2478 - val_accuracy: 0.9304 - lr: 0.0010\n",
            "Epoch 13/70\n",
            "1019/1019 [==============================] - ETA: 0s - loss: 0.0160 - accuracy: 0.9950\n",
            "Epoch 13: val_loss improved from 0.17454 to 0.03468, saving model to best_model.h5\n",
            "1019/1019 [==============================] - 228s 224ms/step - loss: 0.0160 - accuracy: 0.9950 - val_loss: 0.0347 - val_accuracy: 0.9906 - lr: 2.0000e-04\n",
            "Epoch 14/70\n",
            "1019/1019 [==============================] - ETA: 0s - loss: 0.0063 - accuracy: 0.9984\n",
            "Epoch 14: val_loss improved from 0.03468 to 0.03302, saving model to best_model.h5\n",
            "1019/1019 [==============================] - 227s 223ms/step - loss: 0.0063 - accuracy: 0.9984 - val_loss: 0.0330 - val_accuracy: 0.9912 - lr: 2.0000e-04\n",
            "Epoch 15/70\n",
            "1019/1019 [==============================] - ETA: 0s - loss: 0.0056 - accuracy: 0.9983\n",
            "Epoch 15: val_loss did not improve from 0.03302\n",
            "1019/1019 [==============================] - 240s 235ms/step - loss: 0.0056 - accuracy: 0.9983 - val_loss: 0.0391 - val_accuracy: 0.9908 - lr: 2.0000e-04\n",
            "Epoch 16/70\n",
            "1019/1019 [==============================] - ETA: 0s - loss: 0.0049 - accuracy: 0.9984\n",
            "Epoch 16: val_loss did not improve from 0.03302\n",
            "1019/1019 [==============================] - 250s 245ms/step - loss: 0.0049 - accuracy: 0.9984 - val_loss: 0.0494 - val_accuracy: 0.9876 - lr: 2.0000e-04\n",
            "Epoch 17/70\n",
            "1019/1019 [==============================] - ETA: 0s - loss: 0.0045 - accuracy: 0.9988\n",
            "Epoch 17: val_loss improved from 0.03302 to 0.03215, saving model to best_model.h5\n",
            "1019/1019 [==============================] - 229s 224ms/step - loss: 0.0045 - accuracy: 0.9988 - val_loss: 0.0322 - val_accuracy: 0.9929 - lr: 2.0000e-04\n",
            "Epoch 18/70\n",
            "1019/1019 [==============================] - ETA: 0s - loss: 0.0039 - accuracy: 0.9988\n",
            "Epoch 18: val_loss did not improve from 0.03215\n",
            "1019/1019 [==============================] - 224s 219ms/step - loss: 0.0039 - accuracy: 0.9988 - val_loss: 0.0391 - val_accuracy: 0.9909 - lr: 2.0000e-04\n",
            "Epoch 19/70\n",
            "1019/1019 [==============================] - ETA: 0s - loss: 0.0041 - accuracy: 0.9987\n",
            "Epoch 19: val_loss did not improve from 0.03215\n",
            "1019/1019 [==============================] - 225s 220ms/step - loss: 0.0041 - accuracy: 0.9987 - val_loss: 0.0382 - val_accuracy: 0.9891 - lr: 2.0000e-04\n",
            "Epoch 20/70\n",
            "1019/1019 [==============================] - ETA: 0s - loss: 0.0036 - accuracy: 0.9987\n",
            "Epoch 20: val_loss did not improve from 0.03215\n",
            "\n",
            "Epoch 20: ReduceLROnPlateau reducing learning rate to 0.0001.\n",
            "1019/1019 [==============================] - 225s 221ms/step - loss: 0.0036 - accuracy: 0.9987 - val_loss: 0.0398 - val_accuracy: 0.9912 - lr: 2.0000e-04\n",
            "Epoch 21/70\n",
            "1019/1019 [==============================] - ETA: 0s - loss: 0.0018 - accuracy: 0.9995\n",
            "Epoch 21: val_loss did not improve from 0.03215\n",
            "1019/1019 [==============================] - 224s 220ms/step - loss: 0.0018 - accuracy: 0.9995 - val_loss: 0.0340 - val_accuracy: 0.9926 - lr: 1.0000e-04\n",
            "Epoch 22/70\n",
            "1019/1019 [==============================] - ETA: 0s - loss: 0.0015 - accuracy: 0.9995\n",
            "Epoch 22: val_loss did not improve from 0.03215\n",
            "Restoring model weights from the end of the best epoch: 17.\n",
            "1019/1019 [==============================] - 225s 221ms/step - loss: 0.0015 - accuracy: 0.9995 - val_loss: 0.0343 - val_accuracy: 0.9935 - lr: 1.0000e-04\n",
            "Epoch 22: early stopping\n",
            "Total waktu pelatihan: 84.83964430888494 menit\n"
          ]
        }
      ]
    },
    {
      "cell_type": "markdown",
      "source": [
        "# **Hiper parametrelere bağlı grafik degerleri **"
      ],
      "metadata": {
        "id": "YnZZNeznE67d"
      }
    },
    {
      "cell_type": "code",
      "source": [
        "def plot_training(hist):\n",
        "    tr_acc = hist.history['accuracy']\n",
        "    tr_loss = hist.history['loss']\n",
        "    val_acc = hist.history['val_accuracy']\n",
        "    val_loss = hist.history['val_loss']\n",
        "    index_loss = np.argmin(val_loss)\n",
        "    val_lowest = val_loss[index_loss]\n",
        "    index_acc = np.argmax(val_acc)\n",
        "    acc_highest = val_acc[index_acc]\n",
        "\n",
        "    plt.figure(figsize= (20, 8))\n",
        "    plt.style.use('fivethirtyeight')\n",
        "    Epochs = [i+1 for i in range(len(tr_acc))]\n",
        "    loss_label = f'best epoch= {str(index_loss + 1)}'\n",
        "    acc_label = f'best epoch= {str(index_acc + 1)}'\n",
        "\n",
        "    plt.subplot(1, 2, 1)\n",
        "    plt.plot(Epochs, tr_loss, 'r', label= 'Training loss')\n",
        "    plt.plot(Epochs, val_loss, 'g', label= 'Validation loss')\n",
        "    plt.scatter(index_loss + 1, val_lowest, s= 150, c= 'blue', label= loss_label)\n",
        "    plt.title('Training and Validation Loss')\n",
        "    plt.xlabel('Epochs')\n",
        "    plt.ylabel('Loss')\n",
        "    plt.legend()\n",
        "\n",
        "    plt.subplot(1, 2, 2)\n",
        "    plt.plot(Epochs, tr_acc, 'r', label= 'Training Accuracy')\n",
        "    plt.plot(Epochs, val_acc, 'g', label= 'Validation Accuracy')\n",
        "    plt.scatter(index_acc + 1 , acc_highest, s= 150, c= 'blue', label= acc_label)\n",
        "    plt.title('Training and Validation Accuracy')\n",
        "    plt.xlabel('Epochs')\n",
        "    plt.ylabel('Accuracy')\n",
        "    plt.legend()\n",
        "\n",
        "    plt.tight_layout\n",
        "    plt.show()\n"
      ],
      "metadata": {
        "execution": {
          "iopub.status.busy": "2023-11-24T00:48:20.358341Z",
          "iopub.execute_input": "2023-11-24T00:48:20.359652Z",
          "iopub.status.idle": "2023-11-24T00:48:20.378540Z",
          "shell.execute_reply.started": "2023-11-24T00:48:20.359574Z",
          "shell.execute_reply": "2023-11-24T00:48:20.377454Z"
        },
        "trusted": true,
        "id": "Ep0kqkITwrqp"
      },
      "execution_count": null,
      "outputs": []
    },
    {
      "cell_type": "code",
      "source": [],
      "metadata": {
        "id": "FkdzPoIhHbKn"
      },
      "execution_count": null,
      "outputs": []
    },
    {
      "cell_type": "markdown",
      "source": [
        "plot_training(model.predict)"
      ],
      "metadata": {
        "id": "jWCcN183wrqp"
      }
    },
    {
      "cell_type": "code",
      "source": [
        "train_score = model.evaluate(X_train, y_train, verbose= 1)\n",
        "test_score = model.evaluate(X_test, y_test, verbose= 1)\n",
        "\n",
        "print(\"Train Loss: \", train_score[0])\n",
        "print(\"Train Accuracy: \", train_score[1])\n",
        "print('-' * 20)\n",
        "print(\"Test Loss: \", test_score[0])\n",
        "print(\"Test Accuracy: \", test_score[1])"
      ],
      "metadata": {
        "execution": {
          "iopub.status.busy": "2023-11-24T01:29:25.144605Z",
          "iopub.execute_input": "2023-11-24T01:29:25.145694Z",
          "iopub.status.idle": "2023-11-24T01:29:54.141849Z",
          "shell.execute_reply.started": "2023-11-24T01:29:25.145655Z",
          "shell.execute_reply": "2023-11-24T01:29:54.140918Z"
        },
        "trusted": true,
        "id": "SIuT3u4Nwrqq",
        "colab": {
          "base_uri": "https://localhost:8080/"
        },
        "outputId": "036ece7e-7673-487d-f224-090ba1b44a9d"
      },
      "execution_count": null,
      "outputs": [
        {
          "output_type": "stream",
          "name": "stdout",
          "text": [
            "1019/1019 [==============================] - 45s 43ms/step - loss: 4.2096 - accuracy: 0.1502\n",
            "340/340 [==============================] - 15s 44ms/step - loss: 4.1953 - accuracy: 0.1563\n",
            "Train Loss:  4.20957612991333\n",
            "Train Accuracy:  0.1501656174659729\n",
            "--------------------\n",
            "Test Loss:  4.195265769958496\n",
            "Test Accuracy:  0.1563161313533783\n"
          ]
        }
      ]
    },
    {
      "cell_type": "code",
      "source": [
        "y_pred = model.predict(X_test)"
      ],
      "metadata": {
        "execution": {
          "iopub.status.busy": "2023-11-24T01:36:14.386948Z",
          "iopub.execute_input": "2023-11-24T01:36:14.387345Z",
          "iopub.status.idle": "2023-11-24T01:36:21.565547Z",
          "shell.execute_reply.started": "2023-11-24T01:36:14.387311Z",
          "shell.execute_reply": "2023-11-24T01:36:21.564578Z"
        },
        "trusted": true,
        "id": "bQ5avXm8wrqr",
        "colab": {
          "base_uri": "https://localhost:8080/"
        },
        "outputId": "b89edeeb-3ca4-4611-dccf-d1de0777fa2d"
      },
      "execution_count": null,
      "outputs": [
        {
          "output_type": "stream",
          "name": "stdout",
          "text": [
            "340/340 [==============================] - 15s 43ms/step\n"
          ]
        }
      ]
    },
    {
      "cell_type": "code",
      "source": [
        "y_pred = np.argmax(y_pred , axis=1)\n",
        "y_true = np.argmax(y_test , axis=1)"
      ],
      "metadata": {
        "execution": {
          "iopub.status.busy": "2023-11-24T01:36:21.773611Z",
          "iopub.execute_input": "2023-11-24T01:36:21.773998Z",
          "iopub.status.idle": "2023-11-24T01:36:21.779463Z",
          "shell.execute_reply.started": "2023-11-24T01:36:21.773969Z",
          "shell.execute_reply": "2023-11-24T01:36:21.778561Z"
        },
        "trusted": true,
        "id": "Uj1d5XRXwrqr"
      },
      "execution_count": null,
      "outputs": []
    },
    {
      "cell_type": "code",
      "source": [
        "from sklearn.metrics import accuracy_score, classification_report\n",
        "\n",
        "accuracy = accuracy_score(y_true, y_pred)\n",
        "report = classification_report(y_true, y_pred)"
      ],
      "metadata": {
        "execution": {
          "iopub.status.busy": "2023-11-24T01:36:45.466169Z",
          "iopub.execute_input": "2023-11-24T01:36:45.466588Z",
          "iopub.status.idle": "2023-11-24T01:36:45.501322Z",
          "shell.execute_reply.started": "2023-11-24T01:36:45.466555Z",
          "shell.execute_reply": "2023-11-24T01:36:45.500292Z"
        },
        "trusted": true,
        "id": "I2Hp7XIcwrqs",
        "colab": {
          "base_uri": "https://localhost:8080/"
        },
        "outputId": "df17c4df-19af-48fe-a395-434532561bb4"
      },
      "execution_count": null,
      "outputs": [
        {
          "output_type": "stream",
          "name": "stderr",
          "text": [
            "/usr/local/lib/python3.10/dist-packages/sklearn/metrics/_classification.py:1344: UndefinedMetricWarning: Precision and F-score are ill-defined and being set to 0.0 in labels with no predicted samples. Use `zero_division` parameter to control this behavior.\n",
            "  _warn_prf(average, modifier, msg_start, len(result))\n",
            "/usr/local/lib/python3.10/dist-packages/sklearn/metrics/_classification.py:1344: UndefinedMetricWarning: Precision and F-score are ill-defined and being set to 0.0 in labels with no predicted samples. Use `zero_division` parameter to control this behavior.\n",
            "  _warn_prf(average, modifier, msg_start, len(result))\n",
            "/usr/local/lib/python3.10/dist-packages/sklearn/metrics/_classification.py:1344: UndefinedMetricWarning: Precision and F-score are ill-defined and being set to 0.0 in labels with no predicted samples. Use `zero_division` parameter to control this behavior.\n",
            "  _warn_prf(average, modifier, msg_start, len(result))\n"
          ]
        }
      ]
    },
    {
      "cell_type": "code",
      "source": [
        "print(\"Accuracy:\", accuracy)\n",
        "print(\"Classification Report:\\n\", report)"
      ],
      "metadata": {
        "execution": {
          "iopub.status.busy": "2023-11-24T01:36:54.649192Z",
          "iopub.execute_input": "2023-11-24T01:36:54.650374Z",
          "iopub.status.idle": "2023-11-24T01:36:54.655304Z",
          "shell.execute_reply.started": "2023-11-24T01:36:54.650331Z",
          "shell.execute_reply": "2023-11-24T01:36:54.654304Z"
        },
        "trusted": true,
        "id": "cJj7pnyYwrqs",
        "colab": {
          "base_uri": "https://localhost:8080/"
        },
        "outputId": "2ed9b93b-9edf-49cf-b78d-1a04cf1fb4ff"
      },
      "execution_count": null,
      "outputs": [
        {
          "output_type": "stream",
          "name": "stdout",
          "text": [
            "Accuracy: 0.15631612843867881\n",
            "Classification Report:\n",
            "               precision    recall  f1-score   support\n",
            "\n",
            "           0       0.00      0.00      0.00      1754\n",
            "           1       0.00      0.00      0.00      1686\n",
            "           2       0.00      0.00      0.00      1629\n",
            "           3       0.00      0.00      0.00      1612\n",
            "           4       0.00      0.00      0.00       864\n",
            "           5       0.00      0.00      0.00      1625\n",
            "           6       0.16      1.00      0.27      1699\n",
            "\n",
            "    accuracy                           0.16     10869\n",
            "   macro avg       0.02      0.14      0.04     10869\n",
            "weighted avg       0.02      0.16      0.04     10869\n",
            "\n"
          ]
        }
      ]
    },
    {
      "cell_type": "code",
      "source": [
        "classes = {4: ('nv', ' melanocytic nevi'),\n",
        "           6: ('mel', 'melanoma'),\n",
        "           2 :('bkl', 'benign keratosis-like lesions'),\n",
        "           1:('bcc' , ' basal cell carcinoma'),\n",
        "           5: ('vasc', ' pyogenic granulomas and hemorrhage'),\n",
        "           0: ('akiec', 'Actinic keratoses and intraepithelial carcinomae'),\n",
        "           3: ('df', 'dermatofibroma')}\n",
        "\n",
        "classes_labels = []\n",
        "for key in classes.keys():\n",
        "    classes_labels.append(key)\n"
      ],
      "metadata": {
        "trusted": true,
        "id": "ZMSZPuRtwrqt"
      },
      "execution_count": null,
      "outputs": []
    },
    {
      "cell_type": "code",
      "source": [
        "from sklearn.metrics import confusion_matrix\n",
        "import itertools"
      ],
      "metadata": {
        "execution": {
          "iopub.status.busy": "2023-11-24T01:40:31.045402Z",
          "iopub.execute_input": "2023-11-24T01:40:31.045852Z",
          "iopub.status.idle": "2023-11-24T01:40:31.050399Z",
          "shell.execute_reply.started": "2023-11-24T01:40:31.045813Z",
          "shell.execute_reply": "2023-11-24T01:40:31.049325Z"
        },
        "trusted": true,
        "id": "lk0n2grtwrqt"
      },
      "execution_count": null,
      "outputs": []
    },
    {
      "cell_type": "code",
      "source": [
        "# Confusion matrix\n",
        "cm = cm = confusion_matrix(y_true, y_pred, labels=classes_labels)\n",
        "\n",
        "plt.figure(figsize= (5, 5))\n",
        "plt.imshow(cm, interpolation= 'nearest', cmap= plt.cm.Blues)\n",
        "plt.title('Confusion Matrix')\n",
        "plt.colorbar()\n",
        "\n",
        "tick_marks = np.arange(len(classes))\n",
        "plt.xticks(tick_marks, classes, rotation= 45)\n",
        "plt.yticks(tick_marks, classes)\n",
        "\n",
        "\n",
        "thresh = cm.max() / 2.\n",
        "for i, j in itertools.product(range(cm.shape[0]), range(cm.shape[1])):\n",
        "    plt.text(j, i, cm[i, j], horizontalalignment= 'center', color= 'white' if cm[i, j] > thresh else 'black')\n",
        "\n",
        "plt.tight_layout()\n",
        "plt.ylabel('True Label')\n",
        "plt.xlabel('Predicted Label')\n",
        "\n",
        "plt.show()"
      ],
      "metadata": {
        "execution": {
          "iopub.status.busy": "2023-11-24T01:40:45.659656Z",
          "iopub.execute_input": "2023-11-24T01:40:45.660075Z",
          "iopub.status.idle": "2023-11-24T01:40:46.056086Z",
          "shell.execute_reply.started": "2023-11-24T01:40:45.660043Z",
          "shell.execute_reply": "2023-11-24T01:40:46.055301Z"
        },
        "trusted": true,
        "id": "eb6znDlNwrqt",
        "colab": {
          "base_uri": "https://localhost:8080/",
          "height": 507
        },
        "outputId": "6ef526af-0395-4059-cd7b-37835ff3c3c5"
      },
      "execution_count": null,
      "outputs": [
        {
          "output_type": "display_data",
          "data": {
            "text/plain": [
              "<Figure size 500x500 with 2 Axes>"
            ],
            "image/png": "[encoded data removed]"
          },
          "metadata": {}
        }
      ]
    },
    {
      "cell_type": "code",
      "source": [
        "# y_test_unique_classes, y_test_class_counts = np.unique(np.argmax(y_test, axis=1), return_counts=True)\n",
        "num = 0\n",
        "for cls, count in zip(classes_labels, [864, 1699, 1629, 1686, 1625, 1754, 1612]):\n",
        "    print(f\"Kelas {cls}: {cm[num,num]} dari {count} sampel, prediksi salah: {count-cm[num,num]}\")\n",
        "    num += 1"
      ],
      "metadata": {
        "execution": {
          "iopub.status.busy": "2023-11-24T02:27:56.224500Z",
          "iopub.execute_input": "2023-11-24T02:27:56.224918Z",
          "iopub.status.idle": "2023-11-24T02:27:56.231520Z",
          "shell.execute_reply.started": "2023-11-24T02:27:56.224884Z",
          "shell.execute_reply": "2023-11-24T02:27:56.230400Z"
        },
        "trusted": true,
        "id": "7AVgpK7Vwrqu",
        "colab": {
          "base_uri": "https://localhost:8080/"
        },
        "outputId": "74ad228f-bfec-44d4-8548-f12f44146a12"
      },
      "execution_count": null,
      "outputs": [
        {
          "output_type": "stream",
          "name": "stdout",
          "text": [
            "Kelas 4: 0 dari 864 sampel, prediksi salah: 864\n",
            "Kelas 6: 1699 dari 1699 sampel, prediksi salah: 0\n",
            "Kelas 2: 0 dari 1629 sampel, prediksi salah: 1629\n",
            "Kelas 1: 0 dari 1686 sampel, prediksi salah: 1686\n",
            "Kelas 5: 0 dari 1625 sampel, prediksi salah: 1625\n",
            "Kelas 0: 0 dari 1754 sampel, prediksi salah: 1754\n",
            "Kelas 3: 0 dari 1612 sampel, prediksi salah: 1612\n"
          ]
        }
      ]
    },
    {
      "cell_type": "code",
      "source": [
        "def convertIMG(testing_img):\n",
        "\n",
        "    img = Image.open(testing_img)\n",
        "    img_resized = img.resize((28, 28))\n",
        "    img_rgb = img_resized.convert('RGB')\n",
        "\n",
        "    img_array = np.array(img_rgb)\n",
        "\n",
        "    if img_array.shape[2] == 4:  # Jika terdapat alpha channel (transparansi)\n",
        "        img_array = img_array[:, :, :3]  # Hapus alpha channel\n",
        "\n",
        "    if img_array.shape[:2] != (28, 28):\n",
        "        raise ValueError(\"Ukuran gambar tidak sesuai dengan yang diharapkan\")\n",
        "\n",
        "    return img_array\n",
        "\n",
        "def getPrediction(testing_img):\n",
        "    img_input = np.expand_dims(convertIMG(testing_img), axis=0)\n",
        "    res = np.argmax(model.predict(img_input))\n",
        "\n",
        "    print(classes[res])\n",
        "\n",
        "    return res"
      ],
      "metadata": {
        "execution": {
          "iopub.status.busy": "2023-11-24T01:55:21.007981Z",
          "iopub.execute_input": "2023-11-24T01:55:21.008533Z",
          "iopub.status.idle": "2023-11-24T01:55:21.019447Z",
          "shell.execute_reply.started": "2023-11-24T01:55:21.008486Z",
          "shell.execute_reply": "2023-11-24T01:55:21.018284Z"
        },
        "trusted": true,
        "id": "oLx9MNQYwrqu"
      },
      "execution_count": null,
      "outputs": []
    },
    {
      "cell_type": "code",
      "source": [
        "testing_img = '/content/drive/MyDrive/Colab Notebooks/skin cancer/ISIC_0034320.jpg'\n",
        "getPrediction(testing_img)"
      ],
      "metadata": {
        "execution": {
          "iopub.status.busy": "2023-11-24T01:56:46.803606Z",
          "iopub.execute_input": "2023-11-24T01:56:46.804611Z",
          "iopub.status.idle": "2023-11-24T01:56:46.899878Z",
          "shell.execute_reply.started": "2023-11-24T01:56:46.804557Z",
          "shell.execute_reply": "2023-11-24T01:56:46.898837Z"
        },
        "trusted": true,
        "id": "mW2Xv0-fwrqv",
        "colab": {
          "base_uri": "https://localhost:8080/"
        },
        "outputId": "9e4ab774-fe20-4f2e-b851-de520d71a9c1"
      },
      "execution_count": null,
      "outputs": [
        {
          "output_type": "stream",
          "name": "stdout",
          "text": [
            "1/1 [==============================] - 0s 229ms/step\n",
            "('mel', 'melanoma')\n"
          ]
        },
        {
          "output_type": "execute_result",
          "data": {
            "text/plain": [
              "6"
            ]
          },
          "metadata": {},
          "execution_count": 28
        }
      ]
    },
    {
      "cell_type": "markdown",
      "source": [
        "https://www.kaggle.com/code/teguhbudi/cnn-skin-cancer"
      ],
      "metadata": {
        "id": "P0OfwOqwPW9A"
      }
    }
  ]
}